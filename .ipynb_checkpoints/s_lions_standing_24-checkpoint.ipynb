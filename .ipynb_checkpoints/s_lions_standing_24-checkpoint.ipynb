{
 "cells": [
  {
   "cell_type": "markdown",
   "id": "d98e036e",
   "metadata": {},
   "source": [
    "<div style=\"float: left;\">\n",
    "    <img src=\"image\\sl_logo.svg\" alt=\"SL Logo\" width=\"300\" height=\"300\">\n",
    "</div>"
   ]
  },
  {
   "cell_type": "markdown",
   "id": "136ac2aa",
   "metadata": {},
   "source": [
    "# 2024 Samsung Lions Team Standings\n",
    "\n",
    "KBO 삼성 라이온즈의 팬으로서, 2024년도 시즌의 유의미한 삼성 라이온즈 팀데이터를 수집하고 분석해 보았습니다.\n",
    "<br>As a fan of the Samsung Lions in KBO, I have collected and analyzed significant team data from the 2024 season of the Samsung Lions.\n",
    "\n",
    "### Objectives\n",
    "- **홈/원정 선취점 시 승률 - WPCT when scoring first (Home & Away) // (진행중 / In Progress)**\n",
    "- **구장별 승률 - WPCT by place // (진행중 / In Progress)**\n",
    "- 5회, 7회까지 리드시 승률 - WPCT when leading after the 5th and 7th innings\n",
    "- 전체 시즌/월별 승률, 팀 타율, 팀 평균 자책점 - Season/Monthly WPCT, Team AVG, Team average ERA\n",
    "- 선발, 불펜 투수 평균 자책점 - Starting pitchers' and relief pitchers' average ERA"
   ]
  },
  {
   "cell_type": "markdown",
   "id": "0bc51f57",
   "metadata": {},
   "source": [
    "## 0. Get 2024 Match Data"
   ]
  },
  {
   "cell_type": "code",
   "execution_count": null,
   "id": "9772aaaf",
   "metadata": {
    "scrolled": false
   },
   "outputs": [],
   "source": [
    "#install kbodata package\n",
    "#pip install kbodata \n",
    "\n",
    "#load kbo-data package\n",
    "import kbodata\n",
    "\n",
    "#Require Chrome driver -> pip install webdriver-manager\n",
    "\n",
    "#make sure to specify the correct path to the installed Chrome driver\n",
    "\n",
    "#select year, month, day\n",
    "yyyy = 2024\n",
    "#mm = mm\n",
    "#dd = dd\n",
    "\n",
    "#get the KBO match schedule for mm/dd/yyyy\n",
    "#day = kbodata.get_daily_schedule(yyyy, mm, dd, r\"chromedriver-win64\\chromedriver.exe\")\n",
    "\n",
    "#get the KBO match schedule for mm/yyyy\n",
    "#month = kbodata.get_monthly_schedule(yyyy, mm, r\"chromedriver-win64\\chromedriver.exe\")\n",
    "\n",
    "#get the KBO match schedule for yyyy\n",
    "year = kbodata.get_yearly_schedule(yyyy, r\"chromedriver-win64\\chromedriver.exe\")"
   ]
  },
  {
   "cell_type": "code",
   "execution_count": null,
   "id": "1d45aaa4",
   "metadata": {},
   "outputs": [],
   "source": [
    "#filter S.Lions matches in the 2024 KBO league season\n",
    "sl_year = year[((year.home == \"SS\") | #filter S.Lions matches\n",
    "               (year.away == \"SS\")) & \n",
    "               (~year.date.str.contains(\"2024030\") & #filter out pre-season matches\n",
    "                ~year.date.str.contains(\"2024031\"))] \n",
    "\n",
    "print(sl_year.shape[0]) #total matches played in 2024\n",
    "print(sl_year)"
   ]
  },
  {
   "cell_type": "code",
   "execution_count": null,
   "id": "85384bbd",
   "metadata": {},
   "outputs": [],
   "source": [
    "#2024년 KBO 경기 정보를 가져옵니다. \n",
    "#get the KBO match information for 2024.\n",
    "sl_year_data = kbodata.get_game_data(sl_year, r\"chromedriver-win64\\chromedriver.exe\")\n",
    "\n",
    "#convert the team data to DataFrame\n",
    "sl_scoreboard = kbodata.scoreboard_to_DataFrame(sl_year_data)\n",
    "sl_scoreboard"
   ]
  },
  {
   "cell_type": "markdown",
   "id": "63447b2d",
   "metadata": {},
   "source": [
    "# 1. 홈/원정 선취점 시 승률 - WPCT when scoring first (Home & Away)"
   ]
  },
  {
   "cell_type": "markdown",
   "id": "25a36c18",
   "metadata": {},
   "source": [
    "## 1-1. 원정경기 선취점 시 승률 - WPCT when scoring first (Away)"
   ]
  },
  {
   "cell_type": "code",
   "execution_count": null,
   "id": "c856072d",
   "metadata": {
    "scrolled": true
   },
   "outputs": [],
   "source": [
    "#load pandas\n",
    "import pandas as pd\n",
    "\n",
    "#filter away matches\n",
    "sl_scoreboard_away = sl_scoreboard[sl_scoreboard.away == \"삼성\"]\n",
    "\n",
    "def first_run_away():\n",
    "    win_a = 0 #wins\n",
    "    draw_a = 0 #draws\n",
    "    loss_a = 0 #losses\n",
    "    \n",
    "    #compare each match\n",
    "    for i in range(0, sl_scoreboard_away.shape[0], 2): \n",
    "        match = sl_scoreboard_away.iloc[i: i+2]\n",
    "        \n",
    "        #compare each inning to identify the first run team\n",
    "        for j in range(3, 21):\n",
    "            \n",
    "            #filters when S.Lions scores first\n",
    "            if (match.iloc[0][j] != 0 and (match.iloc[1][j] == 0 or match.iloc[1][j] != 0)):\n",
    "                if match.iloc[0][2] == 1: #S.Lions wins \n",
    "                    win_a += 1\n",
    "                elif match.iloc[0][2] == -1: #S.Lions loses\n",
    "                    loss_a += 1\n",
    "                else: #S.Lions draws\n",
    "                    draw_a += 1\n",
    "                break\n",
    "                \n",
    "            #filters when the opponent scores the first run    \n",
    "            elif (match.iloc[0][j] == 0 and match.iloc[1][j] != 0):\n",
    "                break\n",
    "    \n",
    "    return win_a, draw_a, loss_a\n",
    "    \n",
    "win_a, draw_a, loss_a = first_run_away() #get values\n",
    "\n",
    "total_games_a = win_a + draw_a + loss_a #total away matches played when S.Lions scores first\n",
    "win_per_a = (win_a * 100) / (total_games_a - draw_a) #calculate WPCT\n",
    "\n",
    "#print result messages\n",
    "result_message_a_kor = (\n",
    "    f\"원정경기 중 선취점을 얻은 {total_games_a}경기 중 {win_a}승 \"\n",
    "    f\"{draw_a}무 {loss_a}패를 기록했고, \"\n",
    "    f\"승률은 {win_per_a:.2f}%를 기록했습니다.\"\n",
    ")\n",
    "\n",
    "result_message_a_eng = (\n",
    "    f\"Out of {total_games_a} away matches with scoring first, \"\n",
    "    f\"the team recorded {win_a}W/{draw_a}D/{loss_a}L, \"\n",
    "    f\"resulting in a WPCT of {win_per_a:.2f}%.\"\n",
    ")\n",
    "\n",
    "print(result_message_a_kor)\n",
    "print(result_message_a_eng)"
   ]
  },
  {
   "cell_type": "markdown",
   "id": "82bbb609",
   "metadata": {},
   "source": [
    "## 1-2. 홈경기 선취점 시 승률 - WPCT when scoring first (Home)"
   ]
  },
  {
   "cell_type": "code",
   "execution_count": null,
   "id": "d3d88624",
   "metadata": {},
   "outputs": [],
   "source": [
    "#filter home matches\n",
    "sl_scoreboard_home = sl_scoreboard[sl_scoreboard.home == \"삼성\"]\n",
    "\n",
    "def first_run_home():\n",
    "    win_h = 0 #wins\n",
    "    draw_h = 0 #draws\n",
    "    loss_h = 0 #losses\n",
    "    \n",
    "    #compare each match\n",
    "    for i in range(0, sl_scoreboard_home.shape[0], 2):\n",
    "        match = sl_scoreboard_home.iloc[i: i+2]\n",
    "        \n",
    "        #compare each inning to identify the first run team\n",
    "        for j in range(3, 21):\n",
    "            \n",
    "            #filters when S.Lions scores first\n",
    "            if (match.iloc[0][j] == 0 and match.iloc[1][j] != 0):\n",
    "                if match.iloc[1][2] == 1: #S.Lions wins\n",
    "                    win_h += 1\n",
    "                elif match.iloc[1][2] == -1: #S.Lions loses\n",
    "                    loss_h += 1\n",
    "                else: #S.Lions draws\n",
    "                    draw_h += 1\n",
    "                break\n",
    "            else:\n",
    "                break\n",
    "                \n",
    "    return win_h, draw_h, loss_h\n",
    "    \n",
    "win_h, draw_h, loss_h = first_run_home() #get values\n",
    "\n",
    "total_games_h = win_h + draw_h + loss_h #calculate total home matches played when S.Lions scores first\n",
    "win_per_h = (win_h * 100) / (total_games_h - draw_h) #calculate WPCT\n",
    "\n",
    "#print result messages\n",
    "result_message_h_kor = (\n",
    "    f\"홈경기 중 선취점을 얻은 {total_games_h}경기 중 {win_h}승 \"\n",
    "    f\"{draw_h}무 {loss_h}패를 기록했고, \"\n",
    "    f\"승률은 {win_per_h:.2f}%를 기록했습니다.\"\n",
    ")\n",
    "\n",
    "result_message_h_eng = (\n",
    "    f\"Out of {total_games_h} away matches with scoring first, \"\n",
    "    f\"the team recorded {win_h}W/{draw_h}D/{loss_h}L, \"\n",
    "    f\"resulting in a WPCT of {win_per_h:.2f}%.\"\n",
    ")\n",
    "\n",
    "print(result_message_h_kor)\n",
    "print(result_message_h_eng)"
   ]
  },
  {
   "cell_type": "markdown",
   "id": "d45e8ac6",
   "metadata": {},
   "source": [
    "## 1-3. 홈/원정 선취점 시 승률 - WPCT when scoring first (Home & Away)"
   ]
  },
  {
   "cell_type": "code",
   "execution_count": null,
   "id": "6ea7249e",
   "metadata": {
    "scrolled": true
   },
   "outputs": [],
   "source": [
    "total_games = win_a + draw_a + loss_a + win_h + draw_h + loss_h #calculate total matches\n",
    "wins_total = win_a + win_h #calculate total wins\n",
    "draws_total = draw_a + draw_h #calculate total draws\n",
    "losses_total = loss_a + loss_h #calculate total losses\n",
    "win_per_total = (wins_total * 100) / (total_games - draw_a - draw_h) #calculate total WPCT\n",
    "\n",
    "#print result messages\n",
    "result_message_total_kor = (\n",
    "    f\"현재까지 선취점을 얻은 {total_games}경기 중 {wins_total}승 \"\n",
    "    f\"{draws_total}무 {losses_total}패를 기록했고, \"\n",
    "    f\"승률은 {win_per_total:.2f}%를 기록했습니다.\"\n",
    ")\n",
    "\n",
    "result_message_total_eng = (\n",
    "    f\"Out of {total_games} matches with scoring first, \"\n",
    "    f\"the team recorded {wins_total}W/{draws_total}D/{losses_total}L, \"\n",
    "    f\"resulting in a WPCT of {win_per_total:.2f}%.\"\n",
    ")\n",
    "\n",
    "print(result_message_total_kor)\n",
    "print(result_message_total_eng)"
   ]
  },
  {
   "cell_type": "markdown",
   "id": "9b8a407f",
   "metadata": {},
   "source": [
    "# 2. 구장별 승률 - WPCT by Place"
   ]
  },
  {
   "cell_type": "code",
   "execution_count": null,
   "id": "e69bea32",
   "metadata": {
    "scrolled": false
   },
   "outputs": [],
   "source": [
    "#filter SL's results\n",
    "filtered_sl_scoreboard = sl_scoreboard[sl_scoreboard['idx'].str.endswith('03')] #SL = 03\n",
    "\n",
    "#group by place and count up results and covert to table\n",
    "result_table = filtered_sl_scoreboard.pivot_table(index='place', columns='result', aggfunc='size', fill_value=0)\n",
    "result_table = result_table[[1, 0, -1]]\n",
    "result_table.columns = ['W', 'D', 'L']\n",
    "\n",
    "#calculate WPCT\n",
    "total_games = result_table.sum(axis=1)\n",
    "win_percentage = (result_table['W'] / (total_games - result_table['D']))\n",
    "result_table['WPCT (%)'] = win_percentage.round(3) #round to 3 decimal places\n",
    "\n",
    "#sort the table by WPCT in ascending order\n",
    "result_table = result_table.sort_values(by='WPCT (%)', ascending=True)\n",
    "\n",
    "#edit names in \"place\" column\n",
    "result_table.index = result_table.index.map({\n",
    "    '문학': '문학 - Munhak',\n",
    "    '잠실': '잠실 - Jamsil',\n",
    "    '대구': '[Home] 대구 - Daegu',\n",
    "    '고척': '고척 - Gocheok',\n",
    "    '광주': '광주 - Gwangju',\n",
    "    '대전': '대전 - Daejeon',\n",
    "    '사직': '사직 - Sajik',\n",
    "    '창원': '창원 - Changwon',\n",
    "    '수원': '수원 - Suwon'\n",
    "})\n",
    "\n",
    "#print table\n",
    "result_table "
   ]
  },
  {
   "cell_type": "code",
   "execution_count": null,
   "id": "75b3f974",
   "metadata": {
    "scrolled": false
   },
   "outputs": [],
   "source": [
    "#load matplotlib\n",
    "import matplotlib.pyplot as plt\n",
    "import matplotlib.font_manager as fm\n",
    "\n",
    "plt.figure(figsize=(10, 6))\n",
    "\n",
    "font_path = r\"C:\\Users\\myung\\OneDrive\\바탕 화면\\박명근\\WIX\\kbo_s_lions\\NanumBarunGothic.ttf\"\n",
    "font_prop = fm.FontProperties(fname=font_path)\n",
    "plt.rcParams['font.family'] = font_prop.get_name()\n",
    "\n",
    "#plot a bar chart\n",
    "bars = result_table['WPCT (%)'].plot(kind='bar', color='skyblue')\n",
    "plt.title('삼성 라이온즈 구장별 승률 - S.Lions WPCT by Place', fontproperties=font_prop)\n",
    "plt.xlabel('구장 - Place', fontproperties=font_prop)\n",
    "plt.ylabel('승률 - WPCT (%)', fontproperties=font_prop)\n",
    "\n",
    "#add labels\n",
    "for i, v in enumerate(result_table['WPCT (%)']):\n",
    "    plt.text(i, v, str(v), ha='center', va='bottom', fontproperties=font_prop)\n",
    "\n",
    "plt.xticks(range(len(result_table.index)), result_table.index, fontproperties=font_prop, rotation=15, ha='right')\n",
    "\n",
    "plt.tight_layout()\n",
    "plt.show()"
   ]
  }
 ],
 "metadata": {
  "kernelspec": {
   "display_name": "Python 3 (ipykernel)",
   "language": "python",
   "name": "python3"
  },
  "language_info": {
   "codemirror_mode": {
    "name": "ipython",
    "version": 3
   },
   "file_extension": ".py",
   "mimetype": "text/x-python",
   "name": "python",
   "nbconvert_exporter": "python",
   "pygments_lexer": "ipython3",
   "version": "3.11.5"
  }
 },
 "nbformat": 4,
 "nbformat_minor": 5
}
